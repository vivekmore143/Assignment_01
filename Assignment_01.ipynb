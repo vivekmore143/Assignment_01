{
  "nbformat": 4,
  "nbformat_minor": 0,
  "metadata": {
    "colab": {
      "provenance": []
    },
    "kernelspec": {
      "name": "python3",
      "display_name": "Python 3"
    },
    "language_info": {
      "name": "python"
    }
  },
  "cells": [
    {
      "cell_type": "markdown",
      "source": [
        "#                                                    Python Assignment = 1"
      ],
      "metadata": {
        "id": "L3ANNx8HUTj5"
      }
    },
    {
      "cell_type": "markdown",
      "source": [
        "## 1.a) variables in python                                                       \n",
        "variables are the location or a name, that can able to store a data interms of int, float, string etc                                                          \n",
        "ex: name=\"prashanthcn\""
      ],
      "metadata": {
        "id": "e42AjgecHyzJ"
      }
    },
    {
      "cell_type": "markdown",
      "source": [
        "## 1.b) difference btw variable and constant                                      \n",
        "variables are the location or a name, that can able to store a data interms of int, float, string etc...                                                         \n",
        "constant are the fixed value we can not alter that. there is no constant in python."
      ],
      "metadata": {
        "id": "CtU0ZA_7H6bc"
      }
    },
    {
      "cell_type": "markdown",
      "source": [
        "## *`2`* .a)  &  b)  Datatypes"
      ],
      "metadata": {
        "id": "mn4zx1AoIL3m"
      }
    },
    {
      "cell_type": "code",
      "source": [
        "x=25\n",
        "type(x)"
      ],
      "metadata": {
        "colab": {
          "base_uri": "https://localhost:8080/"
        },
        "id": "J0WSwbeUIMs4",
        "outputId": "43c7901a-8037-4601-f066-b3511a62d852"
      },
      "execution_count": null,
      "outputs": [
        {
          "output_type": "execute_result",
          "data": {
            "text/plain": [
              "int"
            ]
          },
          "metadata": {},
          "execution_count": 5
        }
      ]
    },
    {
      "cell_type": "code",
      "source": [
        "y=55.5\n",
        "type(y)"
      ],
      "metadata": {
        "colab": {
          "base_uri": "https://localhost:8080/"
        },
        "id": "dqsa8obgIQ3Z",
        "outputId": "1281ac56-b667-4088-9fc6-36bf144d8db5"
      },
      "execution_count": null,
      "outputs": [
        {
          "output_type": "execute_result",
          "data": {
            "text/plain": [
              "float"
            ]
          },
          "metadata": {},
          "execution_count": 4
        }
      ]
    },
    {
      "cell_type": "code",
      "source": [
        "name=\"prashanth\"\n",
        "type(name)"
      ],
      "metadata": {
        "colab": {
          "base_uri": "https://localhost:8080/"
        },
        "id": "Ymn86Q1DIWR8",
        "outputId": "60f3eb4b-cecb-4a67-c808-e59aa77a380e"
      },
      "execution_count": null,
      "outputs": [
        {
          "output_type": "execute_result",
          "data": {
            "text/plain": [
              "str"
            ]
          },
          "metadata": {},
          "execution_count": 6
        }
      ]
    },
    {
      "cell_type": "code",
      "source": [
        "a=20\n",
        "b=a>5\n",
        "type(b)"
      ],
      "metadata": {
        "colab": {
          "base_uri": "https://localhost:8080/"
        },
        "id": "jW9A6fB_IzDV",
        "outputId": "b2a8b9dd-eb3d-4988-ffa1-a0003690a91b"
      },
      "execution_count": null,
      "outputs": [
        {
          "output_type": "execute_result",
          "data": {
            "text/plain": [
              "bool"
            ]
          },
          "metadata": {},
          "execution_count": 9
        }
      ]
    },
    {
      "cell_type": "markdown",
      "source": [
        "## 3. a) Arithmatic operation"
      ],
      "metadata": {
        "id": "ek15Vtn7I_VU"
      }
    },
    {
      "cell_type": "code",
      "source": [
        "#1.addition\n",
        "a=15\n",
        "b=25\n",
        "result=a+b\n",
        "print(result)"
      ],
      "metadata": {
        "colab": {
          "base_uri": "https://localhost:8080/"
        },
        "id": "s7h0eELUJMDu",
        "outputId": "f99654c8-59b3-4739-d7ed-6505ec489887"
      },
      "execution_count": null,
      "outputs": [
        {
          "output_type": "stream",
          "name": "stdout",
          "text": [
            "40\n"
          ]
        }
      ]
    },
    {
      "cell_type": "code",
      "source": [
        "# 2.substraction\n",
        "a=25\n",
        "b=5\n",
        "result=a-b\n",
        "print(result)"
      ],
      "metadata": {
        "colab": {
          "base_uri": "https://localhost:8080/"
        },
        "id": "icPRKzhKKh6w",
        "outputId": "a8e12287-b047-458d-d084-e6c8ed3c9060"
      },
      "execution_count": null,
      "outputs": [
        {
          "output_type": "stream",
          "name": "stdout",
          "text": [
            "20\n"
          ]
        }
      ]
    },
    {
      "cell_type": "code",
      "source": [
        "# 3.multiplication\n",
        "a=10\n",
        "b=5\n",
        "result=a*b\n",
        "print(result)"
      ],
      "metadata": {
        "colab": {
          "base_uri": "https://localhost:8080/"
        },
        "id": "6Ywvrvr7KrYk",
        "outputId": "facc0911-ddf6-4abc-92da-34be6c22e7e8"
      },
      "execution_count": null,
      "outputs": [
        {
          "output_type": "stream",
          "name": "stdout",
          "text": [
            "50\n"
          ]
        }
      ]
    },
    {
      "cell_type": "code",
      "source": [
        "# 4.division\n",
        "a=10\n",
        "b=5\n",
        "result=a/b\n",
        "print(result)"
      ],
      "metadata": {
        "colab": {
          "base_uri": "https://localhost:8080/"
        },
        "id": "NOVWUvzXKvCW",
        "outputId": "ba196bd9-9938-4d13-cd23-2b057b0711fa"
      },
      "execution_count": null,
      "outputs": [
        {
          "output_type": "stream",
          "name": "stdout",
          "text": [
            "2.0\n"
          ]
        }
      ]
    },
    {
      "cell_type": "code",
      "source": [
        "# 5.modulud\n",
        "a=10\n",
        "b=3\n",
        "result=a%b\n",
        "print(result)"
      ],
      "metadata": {
        "colab": {
          "base_uri": "https://localhost:8080/"
        },
        "id": "mp9AiL_LKyOx",
        "outputId": "2b308def-2d43-467c-cc50-d23dcc2c6f3b"
      },
      "execution_count": null,
      "outputs": [
        {
          "output_type": "stream",
          "name": "stdout",
          "text": [
            "1\n"
          ]
        }
      ]
    },
    {
      "cell_type": "code",
      "source": [
        "# 6.exponentation\n",
        "a=2\n",
        "b=3\n",
        "result=a**b\n",
        "print(result)"
      ],
      "metadata": {
        "colab": {
          "base_uri": "https://localhost:8080/"
        },
        "id": "eawgpoxAK1Az",
        "outputId": "a60890a4-77d1-44ea-eef5-8ec532684177"
      },
      "execution_count": null,
      "outputs": [
        {
          "output_type": "stream",
          "name": "stdout",
          "text": [
            "8\n"
          ]
        }
      ]
    },
    {
      "cell_type": "code",
      "source": [
        "# 7.floor division\n",
        "a=10\n",
        "b=3\n",
        "result=a//b\n",
        "print(result)"
      ],
      "metadata": {
        "colab": {
          "base_uri": "https://localhost:8080/"
        },
        "id": "ofKCjfBIK70o",
        "outputId": "94c32088-ad4a-480f-a232-94f5d557a4ab"
      },
      "execution_count": null,
      "outputs": [
        {
          "output_type": "stream",
          "name": "stdout",
          "text": [
            "3\n"
          ]
        }
      ]
    },
    {
      "cell_type": "markdown",
      "source": [
        "## 3.b)Area of rectangle"
      ],
      "metadata": {
        "id": "vvRWhj48LARz"
      }
    },
    {
      "cell_type": "code",
      "source": [
        "l=10\n",
        "w=30\n",
        "area=l*w\n",
        "print(area)"
      ],
      "metadata": {
        "colab": {
          "base_uri": "https://localhost:8080/"
        },
        "id": "wnaqaFwZLIYJ",
        "outputId": "113466e2-adcf-4fda-8dca-d4cecbdfda54"
      },
      "execution_count": null,
      "outputs": [
        {
          "output_type": "stream",
          "name": "stdout",
          "text": [
            "300\n"
          ]
        }
      ]
    },
    {
      "cell_type": "markdown",
      "source": [
        "## 4.a)Comparision and logical operation"
      ],
      "metadata": {
        "id": "rq7xrDm_LbhQ"
      }
    },
    {
      "cell_type": "code",
      "source": [
        "#  1.equal\n",
        "a=5\n",
        "b=5\n",
        "a==5\n"
      ],
      "metadata": {
        "colab": {
          "base_uri": "https://localhost:8080/"
        },
        "id": "3PoEqHTMLQ6J",
        "outputId": "930b243f-e136-4008-8c9e-04a6260f96c5"
      },
      "execution_count": null,
      "outputs": [
        {
          "output_type": "execute_result",
          "data": {
            "text/plain": [
              "True"
            ]
          },
          "metadata": {},
          "execution_count": 21
        }
      ]
    },
    {
      "cell_type": "code",
      "source": [
        "#  2.not equal\n",
        "a=5\n",
        "b=5\n",
        "a!=5\n"
      ],
      "metadata": {
        "colab": {
          "base_uri": "https://localhost:8080/"
        },
        "id": "jbl2LYTELinp",
        "outputId": "c5917862-c8e4-4cba-e3f3-a8d098b56a5c"
      },
      "execution_count": null,
      "outputs": [
        {
          "output_type": "execute_result",
          "data": {
            "text/plain": [
              "False"
            ]
          },
          "metadata": {},
          "execution_count": 22
        }
      ]
    },
    {
      "cell_type": "code",
      "source": [
        "#  3.greater than\n",
        "a=5\n",
        "b=3\n",
        "a>b\n"
      ],
      "metadata": {
        "colab": {
          "base_uri": "https://localhost:8080/"
        },
        "id": "kYvMDRWILlFD",
        "outputId": "e742613e-bb52-4b4e-fc97-c6df9c8621c7"
      },
      "execution_count": null,
      "outputs": [
        {
          "output_type": "execute_result",
          "data": {
            "text/plain": [
              "True"
            ]
          },
          "metadata": {},
          "execution_count": 23
        }
      ]
    },
    {
      "cell_type": "code",
      "source": [
        "#  4.lesser than\n",
        "a=5\n",
        "b=3\n",
        "a<b"
      ],
      "metadata": {
        "colab": {
          "base_uri": "https://localhost:8080/"
        },
        "id": "SVnYlESBLoci",
        "outputId": "3dced7f6-6068-4bbf-b356-de721cf63f59"
      },
      "execution_count": null,
      "outputs": [
        {
          "output_type": "execute_result",
          "data": {
            "text/plain": [
              "False"
            ]
          },
          "metadata": {},
          "execution_count": 24
        }
      ]
    },
    {
      "cell_type": "code",
      "source": [
        "#  5.greater than or equal\n",
        "a=5\n",
        "b=3\n",
        "a>=b"
      ],
      "metadata": {
        "colab": {
          "base_uri": "https://localhost:8080/"
        },
        "id": "EK8W1AgfLrsh",
        "outputId": "e6327496-6fc3-49f0-aba1-61a6bf12b5d9"
      },
      "execution_count": null,
      "outputs": [
        {
          "output_type": "execute_result",
          "data": {
            "text/plain": [
              "True"
            ]
          },
          "metadata": {},
          "execution_count": 25
        }
      ]
    },
    {
      "cell_type": "code",
      "source": [
        "#  6.less than or equal\n",
        "a=10\n",
        "b=30\n",
        "a<=b"
      ],
      "metadata": {
        "colab": {
          "base_uri": "https://localhost:8080/"
        },
        "id": "xgeCjfaYL2pS",
        "outputId": "776749f9-ffb3-4953-f277-120efc780ff3"
      },
      "execution_count": null,
      "outputs": [
        {
          "output_type": "execute_result",
          "data": {
            "text/plain": [
              "True"
            ]
          },
          "metadata": {},
          "execution_count": 26
        }
      ]
    },
    {
      "cell_type": "markdown",
      "source": [
        "## 4.b) Using logical operator write a python script that check if a number is positive and even"
      ],
      "metadata": {
        "id": "VB45_wKKL8JU"
      }
    },
    {
      "cell_type": "code",
      "source": [
        "num=int(input(\"enter a number\"))\n",
        "if num>0 and num%2==0:\n",
        "    print(\"the number is positive and even\")\n",
        "else :\n",
        "    print(\"the number is not positive and even\")"
      ],
      "metadata": {
        "colab": {
          "base_uri": "https://localhost:8080/"
        },
        "id": "TIhJYqjaL5c1",
        "outputId": "48c813ce-931e-4685-bea3-6ca1272ff71e"
      },
      "execution_count": null,
      "outputs": [
        {
          "output_type": "stream",
          "name": "stdout",
          "text": [
            "enter a number43\n",
            "the number is not positive and even\n"
          ]
        }
      ]
    },
    {
      "cell_type": "markdown",
      "source": [
        "## 5. a) Type casting                                                              \n",
        "Converting one type of data into anther type                                    \n",
        "Implicit: Automatically it convert one type into another type of data           \n",
        "ex: a=10   b=5.5\n",
        "    \n",
        " r=a+b                                  \n",
        "\n",
        "\n",
        "Explicit: Manually we convert the data type of a variable                       \n",
        "ex: a=\"1000\"          \n",
        "r=int(a)"
      ],
      "metadata": {
        "id": "wmFnSeyGMZFt"
      }
    },
    {
      "cell_type": "markdown",
      "source": [
        "## 5)b.Python script for"
      ],
      "metadata": {
        "id": "tD4xU3XuNH8Q"
      }
    },
    {
      "cell_type": "code",
      "source": [
        "# 1.convert float to an int\n",
        "x=75.55\n",
        "y=int(x)\n",
        "print(y)\n",
        "type(y)"
      ],
      "metadata": {
        "id": "ZtX2ubPHMPqN",
        "colab": {
          "base_uri": "https://localhost:8080/"
        },
        "outputId": "04ae4495-a113-4c30-c46f-bc9dcd29b724"
      },
      "execution_count": 29,
      "outputs": [
        {
          "output_type": "stream",
          "name": "stdout",
          "text": [
            "75\n"
          ]
        },
        {
          "output_type": "execute_result",
          "data": {
            "text/plain": [
              "int"
            ]
          },
          "metadata": {},
          "execution_count": 29
        }
      ]
    },
    {
      "cell_type": "code",
      "source": [
        "# 1.convert int to an str\n",
        "x=2000\n",
        "b=str(a)\n",
        "print(b)\n",
        "type(b)"
      ],
      "metadata": {
        "colab": {
          "base_uri": "https://localhost:8080/"
        },
        "id": "lI-X4o0YPC1d",
        "outputId": "ea3db239-7316-49f8-e406-52ce982b9b04"
      },
      "execution_count": 30,
      "outputs": [
        {
          "output_type": "stream",
          "name": "stdout",
          "text": [
            "10\n"
          ]
        },
        {
          "output_type": "execute_result",
          "data": {
            "text/plain": [
              "str"
            ]
          },
          "metadata": {},
          "execution_count": 30
        }
      ]
    },
    {
      "cell_type": "code",
      "source": [
        "# 1.convert str to an float\n",
        "a=\"233.2\"\n",
        "b=float(a)\n",
        "print(b)\n",
        "type(b)\n"
      ],
      "metadata": {
        "colab": {
          "base_uri": "https://localhost:8080/"
        },
        "id": "ZzqrA_RUPLW1",
        "outputId": "4cb23cb6-73fa-4dee-974b-6ef2c403327b"
      },
      "execution_count": 32,
      "outputs": [
        {
          "output_type": "stream",
          "name": "stdout",
          "text": [
            "233.2\n"
          ]
        },
        {
          "output_type": "execute_result",
          "data": {
            "text/plain": [
              "float"
            ]
          },
          "metadata": {},
          "execution_count": 32
        }
      ]
    },
    {
      "cell_type": "markdown",
      "source": [
        "## 6) Write a python script for.."
      ],
      "metadata": {
        "id": "mRR8JoIbPaR4"
      }
    },
    {
      "cell_type": "code",
      "source": [
        "# 1.adding two num\n",
        "x=35\n",
        "y=10\n",
        "result=x+y\n",
        "print(result)"
      ],
      "metadata": {
        "colab": {
          "base_uri": "https://localhost:8080/"
        },
        "id": "MgEbghKEPU9L",
        "outputId": "e20f7812-c0c4-444e-8cd2-dbb538fb162f"
      },
      "execution_count": 36,
      "outputs": [
        {
          "output_type": "stream",
          "name": "stdout",
          "text": [
            "45\n"
          ]
        }
      ]
    },
    {
      "cell_type": "code",
      "source": [
        "# 2.sub\n",
        "x=35\n",
        "y=10\n",
        "result=x-y\n",
        "print(result)"
      ],
      "metadata": {
        "colab": {
          "base_uri": "https://localhost:8080/"
        },
        "id": "lnnLqJUmPi9U",
        "outputId": "27aa3513-4d7e-4c0d-9d27-bd245780017e"
      },
      "execution_count": 37,
      "outputs": [
        {
          "output_type": "stream",
          "name": "stdout",
          "text": [
            "25\n"
          ]
        }
      ]
    },
    {
      "cell_type": "code",
      "source": [
        "# 3.multiply two num\n",
        "x=35\n",
        "y=5\n",
        "result=x*y\n",
        "print(result)"
      ],
      "metadata": {
        "colab": {
          "base_uri": "https://localhost:8080/"
        },
        "id": "jTSEc0GCP73U",
        "outputId": "ebe27d5c-953c-47be-fcb1-ffd147e6cee8"
      },
      "execution_count": 38,
      "outputs": [
        {
          "output_type": "stream",
          "name": "stdout",
          "text": [
            "175\n"
          ]
        }
      ]
    },
    {
      "cell_type": "code",
      "source": [
        "# 4.division\n",
        "x=35\n",
        "y=5\n",
        "result=x/y\n",
        "print(result)"
      ],
      "metadata": {
        "colab": {
          "base_uri": "https://localhost:8080/"
        },
        "id": "0RkQpGRLQBm0",
        "outputId": "d146f3d0-f0db-45e6-ec73-5e043e829578"
      },
      "execution_count": 39,
      "outputs": [
        {
          "output_type": "stream",
          "name": "stdout",
          "text": [
            "7.0\n"
          ]
        }
      ]
    },
    {
      "cell_type": "code",
      "source": [
        "# 5.convert the sum of the num to a str and print the type of result\n",
        "a=1000\n",
        "b=2000\n",
        "result=a+b\n",
        "str(result)\n",
        "type(str(result))"
      ],
      "metadata": {
        "colab": {
          "base_uri": "https://localhost:8080/"
        },
        "id": "oxpp3tqNQHLa",
        "outputId": "5d1777ef-34d6-42a2-b207-728fe5ee2cc7"
      },
      "execution_count": 40,
      "outputs": [
        {
          "output_type": "execute_result",
          "data": {
            "text/plain": [
              "str"
            ]
          },
          "metadata": {},
          "execution_count": 40
        }
      ]
    },
    {
      "cell_type": "code",
      "source": [],
      "metadata": {
        "id": "rTSECIF6QKpt"
      },
      "execution_count": null,
      "outputs": []
    }
  ]
}